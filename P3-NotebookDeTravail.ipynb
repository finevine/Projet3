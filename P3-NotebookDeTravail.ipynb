{
 "cells": [
  {
   "cell_type": "markdown",
   "metadata": {},
   "source": [
    "## fonction qui marche"
   ]
  },
  {
   "cell_type": "code",
   "execution_count": 34,
   "metadata": {},
   "outputs": [
    {
     "name": "stdout",
     "output_type": "stream",
     "text": [
      "3\n"
     ]
    },
    {
     "data": {
      "text/plain": [
       "[(5, 7),\n",
       " (0, 0),\n",
       " (0, 2),\n",
       " (0, 4),\n",
       " (0, 8),\n",
       " (0, 9),\n",
       " (0, 10),\n",
       " (0, 12),\n",
       " (0, 14),\n",
       " (1, 0),\n",
       " (1, 1),\n",
       " (1, 2),\n",
       " (1, 3),\n",
       " (1, 4),\n",
       " (1, 5),\n",
       " (1, 6),\n",
       " (1, 7),\n",
       " (1, 8),\n",
       " (1, 10),\n",
       " (1, 12),\n",
       " (1, 13),\n",
       " (1, 14),\n",
       " (2, 1),\n",
       " (2, 3),\n",
       " (2, 4),\n",
       " (2, 7),\n",
       " (2, 10),\n",
       " (2, 11),\n",
       " (2, 12),\n",
       " (2, 14),\n",
       " (3, 1),\n",
       " (3, 3),\n",
       " (3, 5),\n",
       " (3, 6),\n",
       " (3, 7),\n",
       " (3, 9),\n",
       " (3, 10),\n",
       " (3, 12),\n",
       " (3, 14),\n",
       " (4, 1),\n",
       " (4, 3),\n",
       " (4, 4),\n",
       " (4, 7),\n",
       " (4, 8),\n",
       " (4, 9),\n",
       " (4, 10),\n",
       " (4, 12),\n",
       " (4, 13),\n",
       " (4, 14),\n",
       " (5, 0),\n",
       " (5, 1),\n",
       " (5, 3),\n",
       " (5, 4),\n",
       " (5, 5),\n",
       " (5, 6),\n",
       " (5, 12),\n",
       " (5, 14),\n",
       " (6, 0),\n",
       " (6, 5),\n",
       " (6, 7),\n",
       " (6, 8),\n",
       " (6, 9),\n",
       " (6, 10),\n",
       " (6, 11),\n",
       " (6, 12),\n",
       " (6, 14),\n",
       " (7, 0),\n",
       " (7, 2),\n",
       " (7, 4),\n",
       " (7, 5),\n",
       " (7, 9),\n",
       " (7, 12),\n",
       " (7, 14),\n",
       " (8, 0),\n",
       " (8, 1),\n",
       " (8, 2),\n",
       " (8, 3),\n",
       " (8, 5),\n",
       " (8, 6),\n",
       " (8, 7),\n",
       " (8, 8),\n",
       " (8, 9),\n",
       " (8, 12),\n",
       " (8, 14),\n",
       " (9, 2),\n",
       " (9, 5),\n",
       " (9, 9),\n",
       " (9, 12),\n",
       " (9, 14),\n",
       " (10, 2),\n",
       " (10, 3),\n",
       " (10, 4),\n",
       " (10, 5),\n",
       " (10, 7),\n",
       " (10, 8),\n",
       " (10, 9),\n",
       " (10, 11),\n",
       " (10, 12),\n",
       " (10, 13),\n",
       " (10, 14),\n",
       " (11, 0),\n",
       " (11, 3),\n",
       " (11, 7),\n",
       " (11, 8),\n",
       " (11, 12),\n",
       " (11, 14),\n",
       " (12, 0),\n",
       " (12, 1),\n",
       " (12, 2),\n",
       " (12, 3),\n",
       " (12, 5),\n",
       " (12, 6),\n",
       " (12, 7),\n",
       " (12, 8),\n",
       " (12, 10),\n",
       " (12, 11),\n",
       " (12, 12),\n",
       " (12, 14),\n",
       " (13, 1),\n",
       " (13, 3),\n",
       " (13, 4),\n",
       " (13, 5),\n",
       " (13, 8),\n",
       " (13, 11),\n",
       " (13, 12),\n",
       " (13, 14),\n",
       " (14, 5),\n",
       " (14, 6),\n",
       " (14, 7),\n",
       " (14, 8),\n",
       " (14, 9),\n",
       " (14, 10),\n",
       " (14, 11),\n",
       " (14, 12),\n",
       " (14, 13),\n",
       " (14, 14),\n",
       " (14, 1)]"
      ]
     },
     "execution_count": 34,
     "metadata": {},
     "output_type": "execute_result"
    }
   ],
   "source": [
    "import numpy as np\n",
    "\n",
    "def access_tiles(file):\n",
    "    #empty list\n",
    "    departure = []\n",
    "    classic_tiles = []\n",
    "    arrival = []\n",
    "    row_ind = 0\n",
    "    #open csv file\n",
    "    data = np.loadtxt(file,dtype=str, delimiter=';')\n",
    "    # iterate on rows and cols to get accessible tiles\n",
    "    for row in data:\n",
    "        col_ind = 0\n",
    "        for cell in row:\n",
    "            if cell == '1':\n",
    "                classic_tiles.append((row_ind, col_ind))\n",
    "            elif cell == 'D':\n",
    "                departure.append((row_ind, col_ind))\n",
    "            elif cell == 'A':\n",
    "                arrival.append((row_ind, col_ind))\n",
    "            col_ind += 1\n",
    "        row_ind +=1\n",
    "    #return complete list [D, accessibles, A]\n",
    "    return departure + classic_tiles + arrival\n",
    "\n",
    "free_tiles = access_tiles('Structure.csv')\n",
    "print(free_tiles.index((0,4)))\n",
    "free_tiles"
   ]
  },
  {
   "cell_type": "markdown",
   "metadata": {},
   "source": [
    "## le case avec un dict"
   ]
  },
  {
   "cell_type": "raw",
   "metadata": {},
   "source": [
    "choices = {\n",
    "    \"1\": classic_tiles,\n",
    "    \"D\": departure,\n",
    "    \"A\": arrival\n",
    "}\n",
    "\n",
    "choices.get(cell, []).append((row, col))"
   ]
  },
  {
   "cell_type": "markdown",
   "metadata": {},
   "source": [
    "## Essai avec Pandas"
   ]
  },
  {
   "cell_type": "code",
   "execution_count": 31,
   "metadata": {},
   "outputs": [
    {
     "name": "stdout",
     "output_type": "stream",
     "text": [
      "pygame 1.9.6\n",
      "Hello from the pygame community. https://www.pygame.org/contribute.html\n"
     ]
    }
   ],
   "source": [
    "import os\n",
    "import pygame\n",
    "import pandas as pd\n",
    "\n",
    "#Import\n",
    "lab = pd.read_csv('Structure.csv', delimiter=\";\", header=None, na_filter=False)\n",
    "#Check later there is no single tile\n",
    "#print(lab.loc[2,1]+lab.loc[2,0])\n",
    "#lab"
   ]
  },
  {
   "cell_type": "code",
   "execution_count": null,
   "metadata": {},
   "outputs": [],
   "source": []
  }
 ],
 "metadata": {
  "kernelspec": {
   "display_name": "Python 3",
   "language": "python",
   "name": "python3"
  },
  "language_info": {
   "codemirror_mode": {
    "name": "ipython",
    "version": 3
   },
   "file_extension": ".py",
   "mimetype": "text/x-python",
   "name": "python",
   "nbconvert_exporter": "python",
   "pygments_lexer": "ipython3",
   "version": "3.7.1"
  }
 },
 "nbformat": 4,
 "nbformat_minor": 2
}
